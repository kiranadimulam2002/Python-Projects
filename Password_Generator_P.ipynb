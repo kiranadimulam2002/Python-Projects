{
 "cells": [
  {
   "cell_type": "code",
   "execution_count": 4,
   "id": "351f4b54",
   "metadata": {},
   "outputs": [
    {
     "name": "stdout",
     "output_type": "stream",
     "text": [
      "Enter the length of the password: 16\n",
      "Generated Password: %EI1_Ey-tXv\"LG,F\n"
     ]
    }
   ],
   "source": [
    "import random\n",
    "import string\n",
    "\n",
    "def generate_password(length=12, uppercase=True, lowercase=True, digits=True, special_chars=True):\n",
    "    # Define character types based on requirements\n",
    "    characters = \"\"\n",
    "    if uppercase:\n",
    "        characters += string.ascii_uppercase\n",
    "    if lowercase:\n",
    "        characters += string.ascii_lowercase\n",
    "    if digits:\n",
    "        characters += string.digits\n",
    "    if special_chars:\n",
    "        characters += string.punctuation\n",
    "\n",
    "    # Check if at least one character from each selected type is required\n",
    "    if not (uppercase and lowercase and digits and special_chars):\n",
    "        raise ValueError(\"At least one character from each selected type is required.\")\n",
    "\n",
    "    # Ensure length is at least the number of selected character types\n",
    "    if length >= len(set(characters)):\n",
    "        raise ValueError(\"Password length must be at least the number of selected character types.\")\n",
    "\n",
    "    # Generate a password with random characters\n",
    "    password = ''.join(random.choice(characters) for _ in range(length))\n",
    "\n",
    "    # Shuffle the characters for additional randomness\n",
    "    password = ''.join(random.sample(password, len(password)))\n",
    "\n",
    "    return password\n",
    "\n",
    "if __name__ == \"__main__\":\n",
    "    # Customize the parameters as needed\n",
    "    password_length = int(input(\"Enter the length of the password: \"))\n",
    "    generated_password = generate_password(password_length)\n",
    "\n",
    "    print(\"Generated Password:\", generated_password)"
   ]
  }
 ],
 "metadata": {
  "kernelspec": {
   "display_name": "Python 3 (ipykernel)",
   "language": "python",
   "name": "python3"
  },
  "language_info": {
   "codemirror_mode": {
    "name": "ipython",
    "version": 3
   },
   "file_extension": ".py",
   "mimetype": "text/x-python",
   "name": "python",
   "nbconvert_exporter": "python",
   "pygments_lexer": "ipython3",
   "version": "3.10.9"
  }
 },
 "nbformat": 4,
 "nbformat_minor": 5
}
