{
 "cells": [
  {
   "cell_type": "code",
   "execution_count": null,
   "id": "59a14028",
   "metadata": {},
   "outputs": [],
   "source": [
    "import tkinter as tk\n",
    "from tkinter import filedialog\n",
    "\n",
    "class BasicTextEditor:\n",
    "    def __init__(self, root):\n",
    "        self.root = root\n",
    "        self.root.title(\"Basic Text Editor\")\n",
    "\n",
    "        # Text area\n",
    "        self.text_area = tk.Text(self.root, wrap=\"word\")\n",
    "        self.text_area.pack(expand=\"yes\", fill=\"both\")\n",
    "\n",
    "        # Menu bar\n",
    "        menu_bar = tk.Menu(self.root)\n",
    "        self.root.config(menu=menu_bar)\n",
    "\n",
    "        # File menu\n",
    "        file_menu = tk.Menu(menu_bar, tearoff=0)\n",
    "        menu_bar.add_cascade(label=\"File\", menu=file_menu)\n",
    "        file_menu.add_command(label=\"New\", command=self.new_file)\n",
    "        file_menu.add_command(label=\"Open\", command=self.open_file)\n",
    "        file_menu.add_command(label=\"Save\", command=self.save_file)\n",
    "        file_menu.add_separator()\n",
    "        file_menu.add_command(label=\"Exit\", command=self.root.destroy)\n",
    "\n",
    "    def new_file(self):\n",
    "        print(\"New File Action\")\n",
    "        self.text_area.delete(1.0, tk.END)\n",
    "\n",
    "    def open_file(self):\n",
    "        print(\"Open File Action\")\n",
    "        file_path = filedialog.askopenfilename(filetypes=[(\"Text files\", \"*.txt\"), (\"All files\", \"*.*\")])\n",
    "        if file_path:\n",
    "            with open(file_path, \"r\") as file:\n",
    "                content = file.read()\n",
    "                self.text_area.delete(1.0, tk.END)\n",
    "                self.text_area.insert(tk.END, content)\n",
    "\n",
    "    def save_file(self):\n",
    "        print(\"Save File Action\")\n",
    "        file_path = filedialog.asksaveasfilename(defaultextension=\".txt\", filetypes=[(\"Text files\", \"*.txt\"), (\"All files\", \"*.*\")])\n",
    "        if file_path:\n",
    "            with open(file_path, \"w\") as file:\n",
    "                content = self.text_area.get(1.0, tk.END)\n",
    "                file.write(content)\n",
    "\n",
    "if __name__ == \"__main__\":\n",
    "    root = tk.Tk()\n",
    "    editor = BasicTextEditor(root)\n",
    "    root.mainloop()"
   ]
  }
 ],
 "metadata": {
  "kernelspec": {
   "display_name": "Python 3 (ipykernel)",
   "language": "python",
   "name": "python3"
  },
  "language_info": {
   "codemirror_mode": {
    "name": "ipython",
    "version": 3
   },
   "file_extension": ".py",
   "mimetype": "text/x-python",
   "name": "python",
   "nbconvert_exporter": "python",
   "pygments_lexer": "ipython3",
   "version": "3.10.9"
  }
 },
 "nbformat": 4,
 "nbformat_minor": 5
}
